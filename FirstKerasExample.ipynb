{
  "nbformat": 4,
  "nbformat_minor": 0,
  "metadata": {
    "colab": {
      "name": "FirstKerasExample.ipynb",
      "version": "0.3.2",
      "provenance": [],
      "collapsed_sections": []
    },
    "kernelspec": {
      "name": "python3",
      "display_name": "Python 3"
    }
  },
  "cells": [
    {
      "cell_type": "markdown",
      "metadata": {
        "id": "view-in-github",
        "colab_type": "text"
      },
      "source": [
        "[View in Colaboratory](https://colab.research.google.com/github/davidderaedt/ML-training/blob/master/FirstKerasExample.ipynb)"
      ]
    },
    {
      "metadata": {
        "id": "NlUMgcghT8Vg",
        "colab_type": "text"
      },
      "cell_type": "markdown",
      "source": [
        "#Keras example\n",
        "\n",
        "Largely inspired by https://machinelearningmastery.com/tutorial-first-neural-network-python-keras/\n"
      ]
    },
    {
      "metadata": {
        "id": "8ECKtSyYnWjA",
        "colab_type": "text"
      },
      "cell_type": "markdown",
      "source": [
        "Download data from a csv file stored in G Drive "
      ]
    },
    {
      "metadata": {
        "id": "02zmB9ULnW7d",
        "colab_type": "code",
        "colab": {
          "base_uri": "https://localhost:8080/",
          "height": 136
        },
        "outputId": "715cdea3-601f-42ec-db4c-3e3e9228d3e4"
      },
      "cell_type": "code",
      "source": [
        "# Install the PyDrive wrapper & import libraries.\n",
        "# This only needs to be done once per notebook.\n",
        "!pip install -U -q PyDrive\n",
        "from pydrive.auth import GoogleAuth\n",
        "from pydrive.drive import GoogleDrive\n",
        "from google.colab import auth\n",
        "from oauth2client.client import GoogleCredentials\n",
        "from io import StringIO   # StringIO behaves like a file object\n",
        "import numpy as np\n",
        "\n",
        "# Authenticate and create the PyDrive client.\n",
        "# This only needs to be done once per notebook.\n",
        "auth.authenticate_user()\n",
        "gauth = GoogleAuth()\n",
        "gauth.credentials = GoogleCredentials.get_application_default()\n",
        "drive = GoogleDrive(gauth)\n",
        "\n",
        "# Download a file based on its file ID.\n",
        "#\n",
        "# A file ID looks like: laggVyWshwcyP6kEI-y_W3P8D26sz\n",
        "file_id = '1YN92MHh9mgokFswUzRS4e_S8xR5qc-pS'\n",
        "downloaded = drive.CreateFile({'id': file_id})\n",
        "content_string = downloaded.GetContentString()\n",
        "#print('Downloaded content \"{}\"'.format(content_string))\n",
        "\n",
        "strfile = StringIO(content_string)\n",
        "dataset = np.loadtxt(strfile, delimiter=\",\")\n",
        "print(dataset)"
      ],
      "execution_count": 18,
      "outputs": [
        {
          "output_type": "stream",
          "text": [
            "[[  6.    148.     72.    ...   0.627  50.      1.   ]\n",
            " [  1.     85.     66.    ...   0.351  31.      0.   ]\n",
            " [  8.    183.     64.    ...   0.672  32.      1.   ]\n",
            " ...\n",
            " [  5.    121.     72.    ...   0.245  30.      0.   ]\n",
            " [  1.    126.     60.    ...   0.349  47.      1.   ]\n",
            " [  1.     93.     70.    ...   0.315  23.      0.   ]]\n"
          ],
          "name": "stdout"
        }
      ]
    },
    {
      "metadata": {
        "id": "mrDgbwfgaQNu",
        "colab_type": "text"
      },
      "cell_type": "markdown",
      "source": [
        "Now let's create the model"
      ]
    },
    {
      "metadata": {
        "id": "bjSOSriPaT6p",
        "colab_type": "code",
        "colab": {
          "base_uri": "https://localhost:8080/",
          "height": 408
        },
        "outputId": "b5895b03-910c-4df4-fd3d-667f4ddb12da"
      },
      "cell_type": "code",
      "source": [
        "# Create your first MLP in Keras\n",
        "from keras.models import Sequential\n",
        "from keras.layers import Dense\n",
        "\n",
        "# fix random seed for reproducibility\n",
        "np.random.seed(7)\n",
        "\n",
        "# load pima indians dataset\n",
        "#dataset = numpy.loadtxt(\"pima-indians-diabetes.csv\", delimiter=\",\")\n",
        "\n",
        "# split into input (X) and output (Y) variables\n",
        "X = dataset[:,0:8]\n",
        "Y = dataset[:,8]\n",
        "\n",
        "# create model\n",
        "model = Sequential()\n",
        "model.add(Dense(12, input_dim=8, activation='relu'))\n",
        "model.add(Dense(8, activation='relu'))\n",
        "model.add(Dense(1, activation='sigmoid'))\n",
        "\n",
        "# Compile model\n",
        "model.compile(loss='binary_crossentropy', optimizer='adam', metrics=['accuracy'])\n",
        "\n",
        "# Fit the model\n",
        "model.fit(X, Y, epochs=10, batch_size=10)\n",
        "\n",
        "# evaluate the model\n",
        "scores = model.evaluate(X, Y)\n",
        "print(\"\\n%s: %.2f%%\" % (model.metrics_names[1], scores[1]*100))\n"
      ],
      "execution_count": 22,
      "outputs": [
        {
          "output_type": "stream",
          "text": [
            "Epoch 1/10\n",
            "768/768 [==============================] - 1s 723us/step - loss: 3.7105 - acc: 0.5977\n",
            "Epoch 2/10\n",
            "768/768 [==============================] - 0s 153us/step - loss: 0.9375 - acc: 0.5924\n",
            "Epoch 3/10\n",
            "768/768 [==============================] - 0s 155us/step - loss: 0.7478 - acc: 0.6432\n",
            "Epoch 4/10\n",
            "768/768 [==============================] - 0s 173us/step - loss: 0.7120 - acc: 0.6549\n",
            "Epoch 5/10\n",
            "768/768 [==============================] - 0s 176us/step - loss: 0.6838 - acc: 0.6693\n",
            "Epoch 6/10\n",
            "768/768 [==============================] - 0s 133us/step - loss: 0.6521 - acc: 0.6771\n",
            "Epoch 7/10\n",
            "768/768 [==============================] - 0s 132us/step - loss: 0.6489 - acc: 0.6823\n",
            "Epoch 8/10\n",
            "768/768 [==============================] - 0s 145us/step - loss: 0.6377 - acc: 0.6875\n",
            "Epoch 9/10\n",
            "768/768 [==============================] - 0s 132us/step - loss: 0.6223 - acc: 0.6940\n",
            "Epoch 10/10\n",
            "768/768 [==============================] - 0s 146us/step - loss: 0.6289 - acc: 0.6771\n",
            "768/768 [==============================] - 0s 167us/step\n",
            "\n",
            "acc: 71.09%\n"
          ],
          "name": "stdout"
        }
      ]
    }
  ]
}